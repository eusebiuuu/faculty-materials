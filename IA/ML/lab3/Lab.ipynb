{
 "cells": [
  {
   "cell_type": "markdown",
   "id": "bdf63595",
   "metadata": {},
   "source": [
    "# IA\n",
    "\n",
    "# Lab 2"
   ]
  },
  {
   "cell_type": "markdown",
   "id": "936dc14a",
   "metadata": {},
   "source": [
    "## k-Nearest Neighbors\n",
    "\n",
    "In this lab, we are going to classify handwritten digits from the MNIST database using k-NN and Naive Bayes. This dataset consists of 60000 training images and 10000 testing images. Each image is labeled with one of 10 classes (0-9 digit). The images are gray-scale and have 28 pixels high and wide. We are going to use a subset divided as follows:\n",
    "    \n",
    "    ‘train_images.npy’ is a matrix of 1000 x 784, containing 1000 training images, each row is an image (28 x 28 = 784).\n",
    "    ‘test_images.npy’ is a matrix of 500 x 784 containing 500 testing images.\n",
    "    ‘train_labels.npy’ and ‘test_labels.npy’ contains the ground-truth labels.\n",
    "\n",
    "![mnist_examples.png](mnist_examples.png)"
   ]
  },
  {
   "cell_type": "code",
   "execution_count": 24,
   "id": "be0ae882",
   "metadata": {},
   "outputs": [],
   "source": [
    "# import matplotlib and numpy libraries\n",
    "# you should run it only once\n",
    "\n",
    "import matplotlib.pyplot as plt\n",
    "import numpy as np "
   ]
  },
  {
   "cell_type": "code",
   "execution_count": null,
   "id": "b70f747c",
   "metadata": {},
   "outputs": [],
   "source": [
    "train_images = np.load('data/train_images.npy') # Load training images\n",
    "train_labels = np.load('data/train_labels.npy') # Load training labels\n",
    "\n",
    "image = train_images[0, :] # the first image\n",
    "image = np.reshape(image, (28, 28)) \n",
    "plt.imshow(np.uint8(image))\n",
    "plt.show()\n",
    "print(train_images.shape)"
   ]
  },
  {
   "cell_type": "markdown",
   "id": "76282a59",
   "metadata": {},
   "source": [
    "## k-Nearest Neighbors\n",
    "\n",
    "The **nearest neighbor** method takes a **test** example, compare it to every single **training** example, and predict the label of the **closest** training example.\n",
    "\n",
    "In order to find the closest example(s), we have to define (or choose) a **metric**.\n",
    "\n",
    "Instead of using the closest example in the training set, we can find the top **k** closest examples and predict their majority label (*classification*) or the mean of their labels (*regression*). This strategy is called **k-NN**.\n",
    "\n"
   ]
  },
  {
   "cell_type": "markdown",
   "id": "33772bf6",
   "metadata": {},
   "source": [
    "![knn.jpeg](knn.jpeg)\n",
    "\n",
    "Exemplu care arată diferențele dintre metoda celui mai apropiat vecin și metoda celor mai apropiați cinci vecini. Zona\n",
    "colorată reprezintă regiunea de decizie a clasificatorului folosind distanța L2. Se observă că în cazul metodei celui mai\n",
    "apropiat vecin se formează mici ‘insule’ ce pot duce la predicții incorecte. Zonele gri din imaginea 5-NN reprezintă zone de\n",
    "predicție ambigue din cauza egalității voturilor celor mai apropiați vecini."
   ]
  },
  {
   "cell_type": "markdown",
   "id": "d32a7479",
   "metadata": {},
   "source": [
    "The most common distances are:\n",
    "    $$L_1(X, Y) = \\sum_i{\\mid X_i - Y_i \\mid}$$\n",
    "    $$L_2(X, Y) = \\sqrt{\\sum_i{(X_i - Y_i) ^ 2}}$$"
   ]
  },
  {
   "cell_type": "markdown",
   "id": "c4470a2b",
   "metadata": {},
   "source": [
    "## Exercitii"
   ]
  },
  {
   "cell_type": "markdown",
   "id": "0c0f19c6",
   "metadata": {},
   "source": [
    "### 1. Creați clasa KnnClassifier, având constructorul următor:"
   ]
  },
  {
   "cell_type": "markdown",
   "id": "cf68a0dd",
   "metadata": {},
   "source": [
    "class KnnClassifier:\n",
    "    \n",
    "    def __init__(self, train_images, train_labels):\n",
    "        self.train_images = train_images\n",
    "        self.train_labels = train_labels"
   ]
  },
  {
   "cell_type": "markdown",
   "id": "80b433e1",
   "metadata": {},
   "source": [
    "### 1*+. Definiți metoda classify_image(self, test_image, num_neighbors = 3, metric = 'l2') care clasifică imaginea test_image cu metoda celor mai apropiați vecini, numărul vecinilor este stabilit de parametru num_neighbors, iar distanța poatefi L1 sau L2, în funcție de parametrul metric.\n"
   ]
  },
  {
   "cell_type": "code",
   "execution_count": 26,
   "id": "82cda1e4",
   "metadata": {},
   "outputs": [
    {
     "name": "stdout",
     "output_type": "stream",
     "text": [
      "Initial arrays we are working with: \n",
      " [0 1 1 3 2 1 7] [9 7 5 4 1 3 7]\n",
      "\n",
      "Indices that would give a sorted array: \n",
      " [0 1 2 5 4 3 6]\n",
      "\n",
      "Sorted array: \n",
      " [0 1 1 1 2 3 7]\n",
      "\n",
      "Count of each value in an array: \n",
      " [1 3 1 1 0 0 0 1]\n",
      "\n",
      "Indices that satify the condition x==3: \n",
      " (array([3], dtype=int64),)\n",
      "\n",
      "Intersection of arrays X and Y: \n",
      " [1 3 7]\n"
     ]
    }
   ],
   "source": [
    "# Funcții numpy ajutatoare:\n",
    "\n",
    "x = np.array([0, 1, 1, 3, 2, 1, 7])\n",
    "y = np.array([9, 7, 5, 4, 1, 3, 7])\n",
    "\n",
    "print(\"Initial arrays we are working with: \\n\", x, y)\n",
    "\n",
    "print(\"\\nIndices that would give a sorted array: \\n\", np.argsort(x)) # returneaza indecsi care sorteaza array-ul\n",
    "print(\"\\nSorted array: \\n\", np.sort(x)) # sorteaza array-ul\n",
    "print(\"\\nCount of each value in an array: \\n\", np.bincount(x)) # calculeaza numarul de aparatii al fiecarei valori din array\n",
    "#print(np.bincount(np.array([0, 1, 1, 3, 2, 1, 7]))) # array([1, 3, 1, 1, 0, 0, 0, 1])\n",
    "print(\"\\nIndices that satify the condition x==3: \\n\", np.where(x == 3)) # returneaza indecsi care satisfac conditia\n",
    "print(\"\\nIntersection of arrays X and Y: \\n\", np.intersect1d(x, y)) # returneaza intersectia celor 2 array\n",
    "\n",
    "np.savetxt('fisier.txt', y) # salveaza array-ul y in fisierul fisier.txt"
   ]
  },
  {
   "cell_type": "code",
   "execution_count": 55,
   "id": "87a17840",
   "metadata": {},
   "outputs": [],
   "source": [
    "class KnnClassifier:\n",
    "    \n",
    "    def __init__(self, train_images, train_labels):\n",
    "        self.train_images = train_images\n",
    "        self.train_labels = train_labels\n",
    "    \n",
    "    # (Classify a single image)\n",
    "    def classify_image(self, test_image, num_neighbors, metric):\n",
    "        # Calculate distances based on the chosen metric\n",
    "        diff_arr = []\n",
    "        \n",
    "        if metric == \"l1\":\n",
    "            for train_image in self.train_images:\n",
    "                diff_arr.append(np.sum(np.abs(np.subtract(test_image, train_image))))\n",
    "        else:\n",
    "            for train_image in self.train_images:\n",
    "                diff_arr.append(np.sqrt(np.sum(np.subtract(test_image, train_image) ** 2)))\n",
    "        \n",
    "        # Find the indices of the nearest neighbors, then use the indices to compute the nearest labels\n",
    "        \n",
    "        idx_arr = np.argsort(diff_arr)\n",
    "        labels = np.array([self.train_labels[idx] for idx in idx_arr][:num_neighbors])\n",
    "        int_labels = labels.astype(int)\n",
    "        \n",
    "        # Find the most common label (mode) among the nearest neighbors\n",
    "\n",
    "        counts = np.bincount(int_labels)\n",
    "        estimated_label = np.argmax(counts)\n",
    "\n",
    "        return estimated_label\n",
    "        \n",
    "    \n",
    "    # B. Write the classify_images(self, test_images, num_neighbors=3, metric='l2') function in order to \n",
    "    #    predict the labels of the test images. \n",
    "\n",
    "    # (Classify multiple images)\n",
    "    def classify_images(self, test_images, num_neighbors, metric):\n",
    "        estimated_labels = [self.classify_image(test_image, num_neighbors, metric) for test_image in test_images]\n",
    "        return estimated_labels\n",
    "    \n",
    "    # C. Define a function to compute the accurracy score given the predicted labels and the ground-truth labels.\n",
    "\n",
    "    def get_accuracy_score(self, test_images, test_labels, num_neighbors = 3, metric = \"l2\"):\n",
    "        estimated_labels = self.classify_images(test_images, num_neighbors, metric)\n",
    "        \n",
    "        success_count = 0\n",
    "        for i, test_label in enumerate(test_labels.astype(int)):\n",
    "            success_count += test_label == estimated_labels[i]\n",
    "\n",
    "        return success_count * 100 / len(test_labels)"
   ]
  },
  {
   "cell_type": "markdown",
   "id": "74589e0f",
   "metadata": {},
   "source": [
    "### 2. Calculați acuratețea metodei celor mai apropiați vecini pe mulțimea de testare având ca distanța ‘l2’ și numărul de vecini 3. Salvați predicțiile în fișierul predictii_3nn_l2_mnist.txt.\n"
   ]
  },
  {
   "cell_type": "code",
   "execution_count": 49,
   "id": "49f76b4a",
   "metadata": {},
   "outputs": [
    {
     "name": "stdout",
     "output_type": "stream",
     "text": [
      "89.8\n"
     ]
    }
   ],
   "source": [
    "import numpy as np\n",
    "\n",
    "train_images = np.loadtxt('./data/train_images.txt')\n",
    "train_labels = np.loadtxt('./data/train_labels.txt')\n",
    "test_images = np.loadtxt('./data/test_images.txt')\n",
    "test_labels = np.loadtxt('./data/test_labels.txt')\n",
    "\n",
    "classifier = KnnClassifier(train_images, train_labels)\n",
    "\n",
    "print(classifier.get_accuracy_score(test_images, test_labels))"
   ]
  },
  {
   "cell_type": "markdown",
   "id": "ed77a25b",
   "metadata": {},
   "source": [
    "### 3. Compare the accuracy to the KNN from sklearn to verify (should be close/similar)"
   ]
  },
  {
   "cell_type": "code",
   "execution_count": 50,
   "id": "d6c641ba",
   "metadata": {},
   "outputs": [
    {
     "name": "stdout",
     "output_type": "stream",
     "text": [
      "89.8\n"
     ]
    }
   ],
   "source": [
    "from sklearn.neighbors import KNeighborsClassifier\n",
    "\n",
    "train_images = np.loadtxt('./data/train_images.txt')\n",
    "train_labels = np.loadtxt('./data/train_labels.txt')\n",
    "test_images = np.loadtxt('./data/test_images.txt')\n",
    "test_labels = np.loadtxt('./data/test_labels.txt')\n",
    "\n",
    "NEIGHBORS = 3\n",
    "\n",
    "classifier = KNeighborsClassifier(NEIGHBORS)\n",
    "\n",
    "classifier.fit(train_images, train_labels)\n",
    "\n",
    "neighbors = classifier.kneighbors(test_images)\n",
    "\n",
    "success_counts = 0\n",
    "\n",
    "for i in range(0, len(neighbors[0])):\n",
    "    distances = neighbors[0][i]\n",
    "    indices = neighbors[1][i]\n",
    "    labels = [train_labels[idx] for idx in indices]\n",
    "\n",
    "    idx_arr = np.argsort(distances)\n",
    "    model_labels = np.array([labels[idx] for idx in idx_arr]).astype(int)\n",
    "\n",
    "    counts = np.bincount(model_labels)\n",
    "    estimated_label = np.argmax(counts)\n",
    "\n",
    "    # print(estimated_label, test_labels[i])\n",
    "\n",
    "    success_counts += estimated_label == test_labels[i]\n",
    "\n",
    "print(success_counts * 100 / len(neighbors[0]))\n"
   ]
  },
  {
   "cell_type": "markdown",
   "id": "081898c6",
   "metadata": {},
   "source": [
    "### 4. Calculați acuratețea metodei celor mai apropiați vecini pe mulțimea de testare având ca distanța L2 și numărul de vecini ∈ [1, 3, 5, 7, 9]"
   ]
  },
  {
   "cell_type": "markdown",
   "id": "26c59bdb",
   "metadata": {},
   "source": [
    "### a. Plotați un grafic cu acuratețea obținută pentru fiecare vecin și salvați scorurile în fișierul acuratete_l2.txt."
   ]
  },
  {
   "cell_type": "code",
   "execution_count": 58,
   "id": "3597e7a0",
   "metadata": {},
   "outputs": [
    {
     "data": {
      "image/png": "[encoded data removed]",
      "text/plain": [
       "<Figure size 640x480 with 1 Axes>"
      ]
     },
     "metadata": {},
     "output_type": "display_data"
    }
   ],
   "source": [
    "import matplotlib.pyplot as plt\n",
    "import numpy as np\n",
    "\n",
    "neighbours = []\n",
    "accuracies_l1 = []\n",
    "accuracies_l2 = []\n",
    "\n",
    "for i in [1, 3, 5, 7, 9]:\n",
    "    classifier = KnnClassifier(train_images, train_labels)\n",
    "\n",
    "    neighbours.append(i)\n",
    "    accuracies_l1.append(classifier.get_accuracy_score(test_images, test_labels, i, \"l1\"))\n",
    "    accuracies_l2.append(classifier.get_accuracy_score(test_images, test_labels, i, \"l2\"))\n",
    "\n",
    "plt.plot(neighbours, accuracies_l1)\n",
    "plt.plot(neighbours, accuracies_l2)\n",
    "plt.show()"
   ]
  },
  {
   "cell_type": "markdown",
   "id": "0b1e4b31",
   "metadata": {},
   "source": [
    "### b.  Repetați punctul anterior pentru distanța L1. Plotați graficul de la punctul anterior în aceeași figură cu graficul curent (utilizați fișierul acuratete_l2.txt)."
   ]
  },
  {
   "cell_type": "code",
   "execution_count": 54,
   "id": "ac383269",
   "metadata": {},
   "outputs": [],
   "source": [
    "# Write your code here\n"
   ]
  }
 ],
 "metadata": {
  "kernelspec": {
   "display_name": "ml_practice",
   "language": "python",
   "name": "python3"
  },
  "language_info": {
   "codemirror_mode": {
    "name": "ipython",
    "version": 3
   },
   "file_extension": ".py",
   "mimetype": "text/x-python",
   "name": "python",
   "nbconvert_exporter": "python",
   "pygments_lexer": "ipython3",
   "version": "3.10.16"
  }
 },
 "nbformat": 4,
 "nbformat_minor": 5
}
