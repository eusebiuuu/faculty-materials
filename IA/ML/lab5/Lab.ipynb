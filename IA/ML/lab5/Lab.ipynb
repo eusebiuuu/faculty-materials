{
 "cells": [
  {
   "cell_type": "markdown",
   "metadata": {
    "id": "DLsj94nwDag0"
   },
   "source": [
    "## Laborator 5"
   ]
  },
  {
   "cell_type": "code",
   "execution_count": 1,
   "metadata": {
    "colab": {
     "base_uri": "https://localhost:8080/"
    },
    "executionInfo": {
     "elapsed": 607,
     "status": "ok",
     "timestamp": 1742974173950,
     "user": {
      "displayName": "Diana Grigore",
      "userId": "10167723207214837184"
     },
     "user_tz": -120
    },
    "id": "YKMjpE4yWxPe",
    "outputId": "3e0c3bb4-fe7f-46b8-c1c5-5245a7fa6c1b"
   },
   "outputs": [
    {
     "name": "stdout",
     "output_type": "stream",
     "text": [
      "--2025-03-26 07:29:33--  https://fmi-unibuc-ia.github.io/ia/Data/data_lab6.zip\n",
      "Resolving fmi-unibuc-ia.github.io (fmi-unibuc-ia.github.io)... 185.199.110.153, 185.199.111.153, 185.199.109.153, ...\n",
      "Connecting to fmi-unibuc-ia.github.io (fmi-unibuc-ia.github.io)|185.199.110.153|:443... connected.\n",
      "HTTP request sent, awaiting response... 200 OK\n",
      "Length: 55791 (54K) [application/zip]\n",
      "Saving to: ‘data_lab6.zip’\n",
      "\n",
      "data_lab6.zip       100%[===================>]  54.48K  --.-KB/s    in 0.06s   \n",
      "\n",
      "2025-03-26 07:29:33 (969 KB/s) - ‘data_lab6.zip’ saved [55791/55791]\n",
      "\n"
     ]
    }
   ],
   "source": [
    "!wget https://fmi-unibuc-ia.github.io/ia/Data/data_lab6.zip"
   ]
  },
  {
   "cell_type": "code",
   "execution_count": 2,
   "metadata": {
    "colab": {
     "base_uri": "https://localhost:8080/"
    },
    "executionInfo": {
     "elapsed": 106,
     "status": "ok",
     "timestamp": 1742974189567,
     "user": {
      "displayName": "Diana Grigore",
      "userId": "10167723207214837184"
     },
     "user_tz": -120
    },
    "id": "hIhvwSqjWzEG",
    "outputId": "4b67824e-0719-4c3b-cf75-0e97705b8b70"
   },
   "outputs": [
    {
     "name": "stdout",
     "output_type": "stream",
     "text": [
      "Archive:  /content/data_lab6.zip\n",
      "  inflating: data/prices.npy         \n",
      "  inflating: data/training_data.npy  \n"
     ]
    }
   ],
   "source": [
    "!unzip /content/data_lab6.zip"
   ]
  },
  {
   "cell_type": "code",
   "execution_count": 1,
   "metadata": {
    "colab": {
     "base_uri": "https://localhost:8080/"
    },
    "executionInfo": {
     "elapsed": 1412,
     "status": "ok",
     "timestamp": 1742974194489,
     "user": {
      "displayName": "Diana Grigore",
      "userId": "10167723207214837184"
     },
     "user_tz": -120
    },
    "id": "nGSH-FqlWiXu",
    "outputId": "6cb8e76d-d331-4bfd-dcb0-2bad17bebdc2"
   },
   "outputs": [
    {
     "name": "stdout",
     "output_type": "stream",
     "text": [
      "The first 4 samples are:\n",
      "  [[2.0150e+03 4.1000e+04 1.9670e+01 1.5820e+03 1.2620e+02 5.0000e+00\n",
      "  1.0000e+00 0.0000e+00 1.0000e+00 0.0000e+00 0.0000e+00 0.0000e+00\n",
      "  1.0000e+00 0.0000e+00]\n",
      " [2.0110e+03 4.6000e+04 1.8200e+01 1.1990e+03 8.8700e+01 5.0000e+00\n",
      "  1.0000e+00 0.0000e+00 0.0000e+00 1.0000e+00 0.0000e+00 0.0000e+00\n",
      "  1.0000e+00 0.0000e+00]\n",
      " [2.0120e+03 8.7000e+04 2.0770e+01 1.2480e+03 8.8760e+01 7.0000e+00\n",
      "  1.0000e+00 0.0000e+00 1.0000e+00 0.0000e+00 0.0000e+00 0.0000e+00\n",
      "  1.0000e+00 0.0000e+00]\n",
      " [2.0130e+03 8.6999e+04 2.3080e+01 1.4610e+03 6.3100e+01 5.0000e+00\n",
      "  1.0000e+00 0.0000e+00 1.0000e+00 0.0000e+00 0.0000e+00 0.0000e+00\n",
      "  1.0000e+00 0.0000e+00]]\n",
      "The first 4 prices are:\n",
      "  [12.5  4.5  6.   3.5]\n"
     ]
    }
   ],
   "source": [
    "import numpy as np\n",
    "from sklearn.utils import shuffle\n",
    "# load training data\n",
    "training_data = np.load('data/training_data.npy')\n",
    "prices = np.load('data/prices.npy')\n",
    "# print the first 4 samples\n",
    "\n",
    "print('The first 4 samples are:\\n ', training_data[:4])\n",
    "print('The first 4 prices are:\\n ', prices[:4])\n",
    "# shuffle\n",
    "training_data, prices = shuffle(training_data, prices, random_state=0)"
   ]
  },
  {
   "cell_type": "markdown",
   "metadata": {
    "id": "SOwq77LNWaI_"
   },
   "source": [
    "1. Definiți o metodă care primește doi parametrii, datele de antrenare și cele de\n",
    "testare și returnează datele normalizate. Folosiți o metodă de normalizare\n",
    "corespunzătoare pentru setul de date Car Price Prediction.\n"
   ]
  },
  {
   "cell_type": "code",
   "execution_count": 2,
   "metadata": {
    "executionInfo": {
     "elapsed": 11,
     "status": "ok",
     "timestamp": 1742975226436,
     "user": {
      "displayName": "Diana Grigore",
      "userId": "10167723207214837184"
     },
     "user_tz": -120
    },
    "id": "37pxKZ_5WS7n"
   },
   "outputs": [],
   "source": [
    "from sklearn.preprocessing import StandardScaler\n",
    "\n",
    "def normalize_data(train_data, test_data):\n",
    "    scaler = StandardScaler()\n",
    "    scaler.fit(train_data)\n",
    "    standard_train = scaler.transform(train_data)\n",
    "    standard_test = scaler.transform(test_data)\n",
    "    return (standard_train, standard_test)"
   ]
  },
  {
   "cell_type": "markdown",
   "metadata": {
    "id": "aS703VngWcYe"
   },
   "source": [
    "2. Folosind mulțimea de antrenare din setul de date Car Price Prediction\n",
    "antrenați un model de regresie liniară folosind validarea încrucișată cu 3 fold-uri.\n",
    "Calculați valoarea medie a funcțiilor MSE și MAE.\n",
    "Nu uitați să normalizați datele folosind metoda definită anterior.\n"
   ]
  },
  {
   "cell_type": "code",
   "execution_count": null,
   "metadata": {
    "colab": {
     "base_uri": "https://localhost:8080/"
    },
    "executionInfo": {
     "elapsed": 47,
     "status": "ok",
     "timestamp": 1742975253203,
     "user": {
      "displayName": "Diana Grigore",
      "userId": "10167723207214837184"
     },
     "user_tz": -120
    },
    "id": "I4h4LeptWdyO",
    "outputId": "86ded891-1c21-4e5f-8357-7abf0cbe2724"
   },
   "outputs": [
    {
     "name": "stdout",
     "output_type": "stream",
     "text": [
      "3.1674454\n",
      "1.3196093\n"
     ]
    }
   ],
   "source": [
    "from sklearn.model_selection import cross_val_score, KFold\n",
    "from sklearn.linear_model import LinearRegression\n",
    "\n",
    "folder = KFold(n_splits=3)\n",
    "folder.get_n_splits(training_data)\n",
    "\n",
    "mse_scores = []\n",
    "mae_scores = []\n",
    "\n",
    "for train_index, test_index in folder.split(training_data):\n",
    "    train_data = training_data[train_index]\n",
    "    test_data = training_data[test_index]\n",
    "    train_features, test_features = normalize_data(train_data, test_data)\n",
    "\n",
    "    train_prices = prices[train_index]\n",
    "    test_prices = prices[test_index]\n",
    "\n",
    "    linear_regression_model = LinearRegression()\n",
    "    linear_regression_model.fit(train_features, train_prices)\n",
    "\n",
    "    predicted_prices = linear_regression_model.predict(test_features)\n",
    "\n",
    "    mse_scores.append(np.mean((predicted_prices - test_prices) ** 2))\n",
    "    mae_scores.append(np.mean(np.abs(predicted_prices - test_prices)))\n",
    "\n",
    "print(np.mean(mse_scores))\n",
    "print(np.mean(mae_scores))"
   ]
  },
  {
   "cell_type": "markdown",
   "metadata": {
    "id": "gop0LxLWWeB-"
   },
   "source": [
    "3. Folosind mulțimea de antrenare din setul de date Car Price Prediction\n",
    "antrenați un model de regresie ridge folosind validarea încrucișată cu 3 fold-uri.\n",
    "Calculați valoarea medie a funcțiilor MSE și MAE. Verificați care valoare a lui α,\n",
    "α ∈ {1, 10, 100, 1000}obține o performanță mai bună.\n",
    "Nu uitați să normalizați datele folosind metoda definită anterior.\n"
   ]
  },
  {
   "cell_type": "code",
   "execution_count": 8,
   "metadata": {
    "id": "GGhf7RsDWfvT"
   },
   "outputs": [
    {
     "name": "stdout",
     "output_type": "stream",
     "text": [
      "For alpha 1:\n",
      "3.1674213\n",
      "1.319584\n",
      "For alpha 10:\n",
      "3.1672847\n",
      "1.3193811\n",
      "For alpha 100:\n",
      "3.1722863\n",
      "1.318595\n",
      "For alpha 1000:\n",
      "3.4331791\n",
      "1.3665795\n"
     ]
    }
   ],
   "source": [
    "from sklearn.linear_model import Ridge\n",
    "\n",
    "def find_median_errors(alpha):\n",
    "    folder = KFold(n_splits=3)\n",
    "    folder.get_n_splits(training_data)\n",
    "\n",
    "    mse_scores = []\n",
    "    mae_scores = []\n",
    "\n",
    "    for train_index, test_index in folder.split(training_data):\n",
    "        train_data = training_data[train_index]\n",
    "        test_data = training_data[test_index]\n",
    "        train_features, test_features = normalize_data(train_data, test_data)\n",
    "\n",
    "        train_prices = prices[train_index]\n",
    "        test_prices = prices[test_index]\n",
    "\n",
    "        linear_regression_model = Ridge(alpha=alpha)\n",
    "        linear_regression_model.fit(train_features, train_prices)\n",
    "\n",
    "        predicted_prices = linear_regression_model.predict(test_features)\n",
    "\n",
    "        mse_scores.append(np.mean((predicted_prices - test_prices) ** 2))\n",
    "        mae_scores.append(np.mean(np.abs(predicted_prices - test_prices)))\n",
    "\n",
    "    print(f\"For alpha {alpha}:\")\n",
    "    print(np.mean(mse_scores))\n",
    "    print(np.mean(mae_scores))\n",
    "\n",
    "alphas = [1, 10, 100, 1000]\n",
    "\n",
    "for alpha in alphas:\n",
    "    find_median_errors(alpha)"
   ]
  },
  {
   "cell_type": "markdown",
   "metadata": {
    "id": "l0AUGHEqWf3X"
   },
   "source": [
    "4. Folosind cel mai performant alpha de la punctul anterior, antrenați un model\n",
    "de regresie ridge pe întreaga mulțime de antrenare, afișați coeficienți și bias-ul\n",
    "regresiei. Care este cel mai semnificativ atribut? Care este al doilea cel mai\n",
    "semnificativ atribut? Care este cel mai puțin semnificativ atribut?\n",
    "Nu uitați să normalizați datele folosind metoda definită anterior."
   ]
  },
  {
   "cell_type": "code",
   "execution_count": 22,
   "metadata": {
    "id": "7PqwAh2MbJEW"
   },
   "outputs": [
    {
     "name": "stdout",
     "output_type": "stream",
     "text": [
      "[ 1.6635199  -0.15533544 -0.4603523   0.40462607  1.3356841   0.13251245\n",
      " -0.08683451  0.          0.3666714  -0.3666635   0.          0.\n",
      " -0.22937483  0.22937013]\n",
      "5.69513\n",
      "Feature 0\n",
      "Feature 4\n",
      "Feature 11\n"
     ]
    }
   ],
   "source": [
    "ridge_regression_model = Ridge(alpha = 10)\n",
    "\n",
    "scaler = StandardScaler()\n",
    "normalized_training = scaler.fit_transform(training_data)\n",
    "\n",
    "ridge_regression_model.fit(normalized_training, prices)\n",
    "\n",
    "coefficients = ridge_regression_model.coef_\n",
    "print(coefficients)\n",
    "print(ridge_regression_model.intercept_)\n",
    "\n",
    "feature_names = training_data.columns if hasattr(training_data, 'columns') else [f\"Feature {i}\" for i in range(training_data.shape[1])]\n",
    "attribute_data = list(zip(coefficients, feature_names))\n",
    "\n",
    "attribute_data = sorted(attribute_data, key=lambda x: abs(x[0]), reverse=True)\n",
    "\n",
    "print(attribute_data[0][1])\n",
    "print(attribute_data[1][1])\n",
    "print(attribute_data[-1][1])"
   ]
  }
 ],
 "metadata": {
  "colab": {
   "authorship_tag": "ABX9TyO99bFl/yvF71AM22sac9iS",
   "provenance": [
    {
     "file_id": "1tzVTrzpTWqgRgZHYs9osVNDH0HLVu78A",
     "timestamp": 1742971560531
    }
   ]
  },
  "kernelspec": {
   "display_name": "ml_practice",
   "language": "python",
   "name": "python3"
  },
  "language_info": {
   "codemirror_mode": {
    "name": "ipython",
    "version": 3
   },
   "file_extension": ".py",
   "mimetype": "text/x-python",
   "name": "python",
   "nbconvert_exporter": "python",
   "pygments_lexer": "ipython3",
   "version": "3.10.16"
  }
 },
 "nbformat": 4,
 "nbformat_minor": 4
}
